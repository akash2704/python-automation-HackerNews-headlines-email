{
  "cells": [
    {
      "cell_type": "markdown",
      "metadata": {
        "id": "view-in-github",
        "colab_type": "text"
      },
      "source": [
        "<a href=\"https://colab.research.google.com/github/akash2704/python-automation-HackerNews-headlines-email/blob/main/Copy_of_001_equal_weight_S%26P_500.ipynb\" target=\"_parent\"><img src=\"https://colab.research.google.com/assets/colab-badge.svg\" alt=\"Open In Colab\"/></a>"
      ]
    },
    {
      "cell_type": "code",
      "source": [
        "pip install xlsxwriter"
      ],
      "metadata": {
        "colab": {
          "base_uri": "https://localhost:8080/"
        },
        "id": "ZvEW-ehQbCQ8",
        "outputId": "e53e83f6-5ce3-4d20-83aa-45cb05509e97"
      },
      "execution_count": 2,
      "outputs": [
        {
          "output_type": "stream",
          "name": "stdout",
          "text": [
            "Collecting xlsxwriter\n",
            "  Downloading XlsxWriter-3.0.3-py3-none-any.whl (149 kB)\n",
            "\u001b[?25l\r\u001b[K     |██▏                             | 10 kB 23.2 MB/s eta 0:00:01\r\u001b[K     |████▍                           | 20 kB 14.0 MB/s eta 0:00:01\r\u001b[K     |██████▌                         | 30 kB 7.2 MB/s eta 0:00:01\r\u001b[K     |████████▊                       | 40 kB 3.1 MB/s eta 0:00:01\r\u001b[K     |███████████                     | 51 kB 3.3 MB/s eta 0:00:01\r\u001b[K     |█████████████                   | 61 kB 4.0 MB/s eta 0:00:01\r\u001b[K     |███████████████▎                | 71 kB 4.2 MB/s eta 0:00:01\r\u001b[K     |█████████████████▌              | 81 kB 4.7 MB/s eta 0:00:01\r\u001b[K     |███████████████████▋            | 92 kB 4.8 MB/s eta 0:00:01\r\u001b[K     |█████████████████████▉          | 102 kB 3.7 MB/s eta 0:00:01\r\u001b[K     |████████████████████████        | 112 kB 3.7 MB/s eta 0:00:01\r\u001b[K     |██████████████████████████▏     | 122 kB 3.7 MB/s eta 0:00:01\r\u001b[K     |████████████████████████████▍   | 133 kB 3.7 MB/s eta 0:00:01\r\u001b[K     |██████████████████████████████▋ | 143 kB 3.7 MB/s eta 0:00:01\r\u001b[K     |████████████████████████████████| 149 kB 3.7 MB/s \n",
            "\u001b[?25hInstalling collected packages: xlsxwriter\n",
            "Successfully installed xlsxwriter-3.0.3\n"
          ]
        }
      ]
    },
    {
      "cell_type": "markdown",
      "metadata": {
        "id": "RGolqYX-ah7m"
      },
      "source": [
        "# Equal-Weight S&P 500 Index Fund\n",
        "\n",
        "## Introduction & Library Imports\n",
        "\n",
        "The S&P 500 is the world's most popular stock market index. The largest fund that is benchmarked to this index is the SPDR® S&P 500® ETF Trust. It has more than US$250 billion of assets under management.\n",
        "\n",
        "The goal of this section of the course is to create a Python script that will accept the value of your portfolio and tell you how many shares of each S&P 500 constituent you should purchase to get an equal-weight version of the index fund.\n",
        "\n",
        "## Library Imports\n",
        "\n",
        "The first thing we need to do is import the open-source software libraries that we'll be using in this tutorial."
      ]
    },
    {
      "cell_type": "code",
      "execution_count": 3,
      "metadata": {
        "id": "FGTK3ceHah7s"
      },
      "outputs": [],
      "source": [
        "import numpy as np\n",
        "import pandas as pd\n",
        "import requests\n",
        "import xlsxwriter\n",
        "import math"
      ]
    },
    {
      "cell_type": "markdown",
      "metadata": {
        "id": "5D_ttegaah7t"
      },
      "source": [
        "## Importing Our List of Stocks\n",
        "\n",
        "The next thing we need to do is import the constituents of the S&P 500.\n",
        "\n",
        "These constituents change over time, so in an ideal world you would connect directly to the index provider (Standard & Poor's) and pull their real-time constituents on a regular basis.\n",
        "\n",
        "Paying for access to the index provider's API is outside of the scope of this course. \n",
        "\n",
        "There's a static version of the S&P 500 constituents available here. [Click this link to download them now](https://drive.google.com/file/d/1ZJSpbY69DVckVZlO9cC6KkgfSufybcHN/view?usp=sharing). Move this file into the `starter-files` folder so it can be accessed by other files in that directory.\n",
        "\n",
        "Now it's time to import these stocks to our Jupyter Notebook file."
      ]
    },
    {
      "cell_type": "code",
      "execution_count": 4,
      "metadata": {
        "colab": {
          "base_uri": "https://localhost:8080/",
          "height": 423
        },
        "id": "TQd88E47ah7u",
        "outputId": "e03dc4f9-ed13-4c76-8243-b91ee38b426b"
      },
      "outputs": [
        {
          "output_type": "execute_result",
          "data": {
            "text/plain": [
              "    Ticker\n",
              "0        A\n",
              "1      AAL\n",
              "2      AAP\n",
              "3     AAPL\n",
              "4     ABBV\n",
              "..     ...\n",
              "500    YUM\n",
              "501    ZBH\n",
              "502   ZBRA\n",
              "503   ZION\n",
              "504    ZTS\n",
              "\n",
              "[505 rows x 1 columns]"
            ],
            "text/html": [
              "\n",
              "  <div id=\"df-bdf46b13-456a-43e8-8b20-c5b9c89c1615\">\n",
              "    <div class=\"colab-df-container\">\n",
              "      <div>\n",
              "<style scoped>\n",
              "    .dataframe tbody tr th:only-of-type {\n",
              "        vertical-align: middle;\n",
              "    }\n",
              "\n",
              "    .dataframe tbody tr th {\n",
              "        vertical-align: top;\n",
              "    }\n",
              "\n",
              "    .dataframe thead th {\n",
              "        text-align: right;\n",
              "    }\n",
              "</style>\n",
              "<table border=\"1\" class=\"dataframe\">\n",
              "  <thead>\n",
              "    <tr style=\"text-align: right;\">\n",
              "      <th></th>\n",
              "      <th>Ticker</th>\n",
              "    </tr>\n",
              "  </thead>\n",
              "  <tbody>\n",
              "    <tr>\n",
              "      <th>0</th>\n",
              "      <td>A</td>\n",
              "    </tr>\n",
              "    <tr>\n",
              "      <th>1</th>\n",
              "      <td>AAL</td>\n",
              "    </tr>\n",
              "    <tr>\n",
              "      <th>2</th>\n",
              "      <td>AAP</td>\n",
              "    </tr>\n",
              "    <tr>\n",
              "      <th>3</th>\n",
              "      <td>AAPL</td>\n",
              "    </tr>\n",
              "    <tr>\n",
              "      <th>4</th>\n",
              "      <td>ABBV</td>\n",
              "    </tr>\n",
              "    <tr>\n",
              "      <th>...</th>\n",
              "      <td>...</td>\n",
              "    </tr>\n",
              "    <tr>\n",
              "      <th>500</th>\n",
              "      <td>YUM</td>\n",
              "    </tr>\n",
              "    <tr>\n",
              "      <th>501</th>\n",
              "      <td>ZBH</td>\n",
              "    </tr>\n",
              "    <tr>\n",
              "      <th>502</th>\n",
              "      <td>ZBRA</td>\n",
              "    </tr>\n",
              "    <tr>\n",
              "      <th>503</th>\n",
              "      <td>ZION</td>\n",
              "    </tr>\n",
              "    <tr>\n",
              "      <th>504</th>\n",
              "      <td>ZTS</td>\n",
              "    </tr>\n",
              "  </tbody>\n",
              "</table>\n",
              "<p>505 rows × 1 columns</p>\n",
              "</div>\n",
              "      <button class=\"colab-df-convert\" onclick=\"convertToInteractive('df-bdf46b13-456a-43e8-8b20-c5b9c89c1615')\"\n",
              "              title=\"Convert this dataframe to an interactive table.\"\n",
              "              style=\"display:none;\">\n",
              "        \n",
              "  <svg xmlns=\"http://www.w3.org/2000/svg\" height=\"24px\"viewBox=\"0 0 24 24\"\n",
              "       width=\"24px\">\n",
              "    <path d=\"M0 0h24v24H0V0z\" fill=\"none\"/>\n",
              "    <path d=\"M18.56 5.44l.94 2.06.94-2.06 2.06-.94-2.06-.94-.94-2.06-.94 2.06-2.06.94zm-11 1L8.5 8.5l.94-2.06 2.06-.94-2.06-.94L8.5 2.5l-.94 2.06-2.06.94zm10 10l.94 2.06.94-2.06 2.06-.94-2.06-.94-.94-2.06-.94 2.06-2.06.94z\"/><path d=\"M17.41 7.96l-1.37-1.37c-.4-.4-.92-.59-1.43-.59-.52 0-1.04.2-1.43.59L10.3 9.45l-7.72 7.72c-.78.78-.78 2.05 0 2.83L4 21.41c.39.39.9.59 1.41.59.51 0 1.02-.2 1.41-.59l7.78-7.78 2.81-2.81c.8-.78.8-2.07 0-2.86zM5.41 20L4 18.59l7.72-7.72 1.47 1.35L5.41 20z\"/>\n",
              "  </svg>\n",
              "      </button>\n",
              "      \n",
              "  <style>\n",
              "    .colab-df-container {\n",
              "      display:flex;\n",
              "      flex-wrap:wrap;\n",
              "      gap: 12px;\n",
              "    }\n",
              "\n",
              "    .colab-df-convert {\n",
              "      background-color: #E8F0FE;\n",
              "      border: none;\n",
              "      border-radius: 50%;\n",
              "      cursor: pointer;\n",
              "      display: none;\n",
              "      fill: #1967D2;\n",
              "      height: 32px;\n",
              "      padding: 0 0 0 0;\n",
              "      width: 32px;\n",
              "    }\n",
              "\n",
              "    .colab-df-convert:hover {\n",
              "      background-color: #E2EBFA;\n",
              "      box-shadow: 0px 1px 2px rgba(60, 64, 67, 0.3), 0px 1px 3px 1px rgba(60, 64, 67, 0.15);\n",
              "      fill: #174EA6;\n",
              "    }\n",
              "\n",
              "    [theme=dark] .colab-df-convert {\n",
              "      background-color: #3B4455;\n",
              "      fill: #D2E3FC;\n",
              "    }\n",
              "\n",
              "    [theme=dark] .colab-df-convert:hover {\n",
              "      background-color: #434B5C;\n",
              "      box-shadow: 0px 1px 3px 1px rgba(0, 0, 0, 0.15);\n",
              "      filter: drop-shadow(0px 1px 2px rgba(0, 0, 0, 0.3));\n",
              "      fill: #FFFFFF;\n",
              "    }\n",
              "  </style>\n",
              "\n",
              "      <script>\n",
              "        const buttonEl =\n",
              "          document.querySelector('#df-bdf46b13-456a-43e8-8b20-c5b9c89c1615 button.colab-df-convert');\n",
              "        buttonEl.style.display =\n",
              "          google.colab.kernel.accessAllowed ? 'block' : 'none';\n",
              "\n",
              "        async function convertToInteractive(key) {\n",
              "          const element = document.querySelector('#df-bdf46b13-456a-43e8-8b20-c5b9c89c1615');\n",
              "          const dataTable =\n",
              "            await google.colab.kernel.invokeFunction('convertToInteractive',\n",
              "                                                     [key], {});\n",
              "          if (!dataTable) return;\n",
              "\n",
              "          const docLinkHtml = 'Like what you see? Visit the ' +\n",
              "            '<a target=\"_blank\" href=https://colab.research.google.com/notebooks/data_table.ipynb>data table notebook</a>'\n",
              "            + ' to learn more about interactive tables.';\n",
              "          element.innerHTML = '';\n",
              "          dataTable['output_type'] = 'display_data';\n",
              "          await google.colab.output.renderOutput(dataTable, element);\n",
              "          const docLink = document.createElement('div');\n",
              "          docLink.innerHTML = docLinkHtml;\n",
              "          element.appendChild(docLink);\n",
              "        }\n",
              "      </script>\n",
              "    </div>\n",
              "  </div>\n",
              "  "
            ]
          },
          "metadata": {},
          "execution_count": 4
        }
      ],
      "source": [
        "stocks=pd.read_csv('/content/sp_500_stocks.csv')\n",
        "stocks"
      ]
    },
    {
      "cell_type": "markdown",
      "metadata": {
        "id": "X10wMdX4ah7v"
      },
      "source": [
        "## Acquiring an API Token\n",
        "\n",
        "Now it's time to import our IEX Cloud API token. This is the data provider that we will be using throughout this course.\n",
        "\n",
        "API tokens (and other sensitive information) should be stored in a `secrets.py` file that doesn't get pushed to your local Git repository. We'll be using a sandbox API token in this course, which means that the data we'll use is randomly-generated and (more importantly) has no cost associated with it.\n",
        "\n",
        "[Click here](http://nickmccullum.com/algorithmic-trading-python/secrets.py) to download your `secrets.py` file. Move the file into the same directory as this Jupyter Notebook before proceeding."
      ]
    },
    {
      "cell_type": "code",
      "execution_count": 6,
      "metadata": {
        "id": "YYaxNUI3ah7v"
      },
      "outputs": [],
      "source": [
        "IEX_CLOUD_API_TOKEN=\"pk_705c73e8a94f464ab41c094289bd4daf\""
      ]
    },
    {
      "cell_type": "markdown",
      "metadata": {
        "id": "onz1xAc6ah7w"
      },
      "source": [
        "## Making Our First API Call\n",
        "\n",
        "Now it's time to structure our API calls to IEX cloud. \n",
        "\n",
        "We need the following information from the API:\n",
        "\n",
        "* Market capitalization for each stock\n",
        "* Price of each stock\n",
        "\n"
      ]
    },
    {
      "cell_type": "code",
      "execution_count": null,
      "metadata": {
        "id": "UI0Hiqrpah7x"
      },
      "outputs": [],
      "source": [
        "symbol=\"AAPL\"\n",
        "api_utl=\"https://sandbox.iexapis.com\""
      ]
    },
    {
      "cell_type": "markdown",
      "metadata": {
        "id": "Svo9qfw7ah7x"
      },
      "source": [
        "## Parsing Our API Call\n",
        "\n",
        "The API call that we executed in the last code block contains all of the information required to build our equal-weight S&P 500 strategy. \n",
        "\n",
        "With that said, the data isn't in a proper format yet. We need to parse it first."
      ]
    },
    {
      "cell_type": "code",
      "execution_count": null,
      "metadata": {
        "id": "KhUACylLah7y"
      },
      "outputs": [],
      "source": [
        ""
      ]
    },
    {
      "cell_type": "markdown",
      "metadata": {
        "id": "pOHQMJT1ah7y"
      },
      "source": [
        "## Adding Our Stocks Data to a Pandas DataFrame\n",
        "\n",
        "The next thing we need to do is add our stock's price and market capitalization to a pandas DataFrame. Think of a DataFrame like the Python version of a spreadsheet. It stores tabular data."
      ]
    },
    {
      "cell_type": "code",
      "execution_count": null,
      "metadata": {
        "id": "e9GRw8nVah7z"
      },
      "outputs": [],
      "source": [
        ""
      ]
    },
    {
      "cell_type": "code",
      "execution_count": null,
      "metadata": {
        "id": "3SEGKxuBah7z"
      },
      "outputs": [],
      "source": [
        ""
      ]
    },
    {
      "cell_type": "markdown",
      "metadata": {
        "id": "WznxTTa3ah70"
      },
      "source": [
        "## Looping Through The Tickers in Our List of Stocks\n",
        "\n",
        "Using the same logic that we outlined above, we can pull data for all S&P 500 stocks and store their data in the DataFrame using a `for` loop."
      ]
    },
    {
      "cell_type": "code",
      "execution_count": null,
      "metadata": {
        "id": "Rk7wKYAhah70"
      },
      "outputs": [],
      "source": [
        ""
      ]
    },
    {
      "cell_type": "code",
      "execution_count": null,
      "metadata": {
        "id": "Atl394CEah71"
      },
      "outputs": [],
      "source": [
        ""
      ]
    },
    {
      "cell_type": "markdown",
      "metadata": {
        "id": "eWpo94GNah71"
      },
      "source": [
        "## Using Batch API Calls to Improve Performance\n",
        "\n",
        "Batch API calls are one of the easiest ways to improve the performance of your code.\n",
        "\n",
        "This is because HTTP requests are typically one of the slowest components of a script.\n",
        "\n",
        "Also, API providers will often give you discounted rates for using batch API calls since they are easier for the API provider to respond to.\n",
        "\n",
        "IEX Cloud limits their batch API calls to 100 tickers per request. Still, this reduces the number of API calls we'll make in this section from 500 to 5 - huge improvement! In this section, we'll split our list of stocks into groups of 100 and then make a batch API call for each group."
      ]
    },
    {
      "cell_type": "code",
      "execution_count": null,
      "metadata": {
        "id": "h7EZZgNIah71"
      },
      "outputs": [],
      "source": [
        ""
      ]
    },
    {
      "cell_type": "code",
      "execution_count": null,
      "metadata": {
        "id": "p87a6Lv3ah71"
      },
      "outputs": [],
      "source": [
        ""
      ]
    },
    {
      "cell_type": "markdown",
      "metadata": {
        "id": "VvS4EmkOah72"
      },
      "source": [
        "## Calculating the Number of Shares to Buy\n",
        "\n",
        "As you can see in the DataFrame above, we stil haven't calculated the number of shares of each stock to buy.\n",
        "\n",
        "We'll do that next."
      ]
    },
    {
      "cell_type": "code",
      "execution_count": null,
      "metadata": {
        "id": "jeneDshZah72"
      },
      "outputs": [],
      "source": [
        ""
      ]
    },
    {
      "cell_type": "code",
      "execution_count": null,
      "metadata": {
        "id": "FnCU0B3gah73"
      },
      "outputs": [],
      "source": [
        ""
      ]
    },
    {
      "cell_type": "markdown",
      "metadata": {
        "id": "IaGGbTObah73"
      },
      "source": [
        "## Formatting Our Excel Output\n",
        "\n",
        "We will be using the XlsxWriter library for Python to create nicely-formatted Excel files.\n",
        "\n",
        "XlsxWriter is an excellent package and offers tons of customization. However, the tradeoff for this is that the library can seem very complicated to new users. Accordingly, this section will be fairly long because I want to do a good job of explaining how XlsxWriter works.\n",
        "\n",
        "### Initializing our XlsxWriter Object"
      ]
    },
    {
      "cell_type": "code",
      "execution_count": null,
      "metadata": {
        "id": "rXJXVtTmah73"
      },
      "outputs": [],
      "source": [
        ""
      ]
    },
    {
      "cell_type": "markdown",
      "metadata": {
        "id": "LXbrdjltah74"
      },
      "source": [
        "### Creating the Formats We'll Need For Our `.xlsx` File\n",
        "\n",
        "Formats include colors, fonts, and also symbols like `%` and `$`. We'll need four main formats for our Excel document:\n",
        "* String format for tickers\n",
        "* \\\\$XX.XX format for stock prices\n",
        "* \\\\$XX,XXX format for market capitalization\n",
        "* Integer format for the number of shares to purchase"
      ]
    },
    {
      "cell_type": "code",
      "execution_count": null,
      "metadata": {
        "id": "crA07u-Fah74"
      },
      "outputs": [],
      "source": [
        ""
      ]
    },
    {
      "cell_type": "markdown",
      "metadata": {
        "id": "RgM3Op05ah74"
      },
      "source": [
        "### Applying the Formats to the Columns of Our `.xlsx` File\n",
        "\n",
        "We can use the `set_column` method applied to the `writer.sheets['Recommended Trades']` object to apply formats to specific columns of our spreadsheets.\n",
        "\n",
        "Here's an example:\n",
        "\n",
        "```python\n",
        "writer.sheets['Recommended Trades'].set_column('B:B', #This tells the method to apply the format to column B\n",
        "                     18, #This tells the method to apply a column width of 18 pixels\n",
        "                     string_template #This applies the format 'string_template' to the column\n",
        "                    )\n",
        "```"
      ]
    },
    {
      "cell_type": "code",
      "execution_count": null,
      "metadata": {
        "id": "KvbZywSnah75"
      },
      "outputs": [],
      "source": [
        ""
      ]
    },
    {
      "cell_type": "markdown",
      "metadata": {
        "id": "ppJyPjmIah75"
      },
      "source": [
        "This code works, but it violates the software principle of \"Don't Repeat Yourself\". \n",
        "\n",
        "Let's simplify this by putting it in 2 loops:"
      ]
    },
    {
      "cell_type": "code",
      "execution_count": null,
      "metadata": {
        "id": "-AXsnMQSah75"
      },
      "outputs": [],
      "source": [
        ""
      ]
    },
    {
      "cell_type": "markdown",
      "metadata": {
        "id": "sfg10cy6ah76"
      },
      "source": [
        "## Saving Our Excel Output\n",
        "\n",
        "Saving our Excel file is very easy:"
      ]
    },
    {
      "cell_type": "code",
      "execution_count": null,
      "metadata": {
        "id": "XFpQaAyiah76"
      },
      "outputs": [],
      "source": [
        ""
      ]
    }
  ],
  "metadata": {
    "kernelspec": {
      "display_name": "Python 3",
      "language": "python",
      "name": "python3"
    },
    "language_info": {
      "codemirror_mode": {
        "name": "ipython",
        "version": 3
      },
      "file_extension": ".py",
      "mimetype": "text/x-python",
      "name": "python",
      "nbconvert_exporter": "python",
      "pygments_lexer": "ipython3",
      "version": "3.8.2"
    },
    "colab": {
      "name": "Copy of 001_equal_weight_S&P_500.ipynb",
      "provenance": [],
      "collapsed_sections": [],
      "include_colab_link": true
    }
  },
  "nbformat": 4,
  "nbformat_minor": 0
}